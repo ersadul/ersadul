{
 "cells": [
  {
   "cell_type": "markdown",
   "id": "09ca89dc",
   "metadata": {},
   "source": [
    "# Accessing data through Public API\n",
    "\n",
    "in this file, it just a demo to access data using public API from website. make use of requests library to send a GET request to the webservice and formatting return data using json"
   ]
  },
  {
   "cell_type": "code",
   "execution_count": 1,
   "id": "da7b50b6",
   "metadata": {},
   "outputs": [],
   "source": [
    "import requests\n",
    "import json"
   ]
  },
  {
   "cell_type": "code",
   "execution_count": 8,
   "id": "b4d91153",
   "metadata": {},
   "outputs": [
    {
     "name": "stdout",
     "output_type": "stream",
     "text": [
      "[\n",
      "   {\n",
      "      \"fdcId\": 2353623,\n",
      "      \"description\": \"A Low-Starch and High-Fiber Diet Intervention Impacts the Microbial Community of Raw Bovine Milk\",\n",
      "      \"dataType\": \"Experimental\",\n",
      "      \"publicationDate\": \"2022-10-28\",\n",
      "      \"foodNutrients\": []\n",
      "   }\n",
      "]\n"
     ]
    }
   ],
   "source": [
    "url = 'https://api.nal.usda.gov/fdc/v1/foods/list?&pageSize=1&api_key=DEMO_KEY'\n",
    "foods = requests.get(url)\n",
    "print(json.dumps(foods.json(), indent=3))"
   ]
  },
  {
   "cell_type": "code",
   "execution_count": null,
   "id": "f6283bed",
   "metadata": {},
   "outputs": [],
   "source": []
  }
 ],
 "metadata": {
  "kernelspec": {
   "display_name": "Python 3 (ipykernel)",
   "language": "python",
   "name": "python3"
  },
  "language_info": {
   "codemirror_mode": {
    "name": "ipython",
    "version": 3
   },
   "file_extension": ".py",
   "mimetype": "text/x-python",
   "name": "python",
   "nbconvert_exporter": "python",
   "pygments_lexer": "ipython3",
   "version": "3.10.5"
  }
 },
 "nbformat": 4,
 "nbformat_minor": 5
}
