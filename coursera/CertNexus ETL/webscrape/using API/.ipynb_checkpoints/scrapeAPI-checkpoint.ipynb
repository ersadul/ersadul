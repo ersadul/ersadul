{
 "cells": [
  {
   "cell_type": "markdown",
   "id": "36147bfb",
   "metadata": {},
   "source": [
    "# Extracting data from web API\n",
    "\n",
    "in this file, we extract data from a website API using Python and some library. in this case we using [exchange rates API](https://exchangeratesapi.io/)"
   ]
  },
  {
   "cell_type": "code",
   "execution_count": null,
   "id": "0e6d5608",
   "metadata": {},
   "outputs": [],
   "source": []
  }
 ],
 "metadata": {
  "kernelspec": {
   "display_name": "Python 3 (ipykernel)",
   "language": "python",
   "name": "python3"
  },
  "language_info": {
   "codemirror_mode": {
    "name": "ipython",
    "version": 3
   },
   "file_extension": ".py",
   "mimetype": "text/x-python",
   "name": "python",
   "nbconvert_exporter": "python",
   "pygments_lexer": "ipython3",
   "version": "3.10.5"
  }
 },
 "nbformat": 4,
 "nbformat_minor": 5
}
