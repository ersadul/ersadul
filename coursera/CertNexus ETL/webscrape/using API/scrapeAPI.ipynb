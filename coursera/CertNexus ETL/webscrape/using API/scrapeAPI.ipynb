{
 "cells": [
  {
   "cell_type": "markdown",
   "id": "36147bfb",
   "metadata": {},
   "source": [
    "# Extracting data from web API\n",
    "\n",
    "in this file, we extract data from a website API using Python and some library. in this case we using [exchange rates API](https://exchangeratesapi.io/)"
   ]
  },
  {
   "cell_type": "markdown",
   "id": "10d7901b",
   "metadata": {},
   "source": [
    "## Import library"
   ]
  },
  {
   "cell_type": "code",
   "execution_count": 1,
   "id": "b4ba4428",
   "metadata": {},
   "outputs": [],
   "source": [
    "import pandas as pd\n",
    "import requests"
   ]
  },
  {
   "cell_type": "markdown",
   "id": "88641240",
   "metadata": {},
   "source": [
    "## Extract Data Using an API"
   ]
  },
  {
   "cell_type": "markdown",
   "id": "9a8b33c5",
   "metadata": {},
   "source": [
    "at first step we must login and get the api key for free"
   ]
  },
  {
   "cell_type": "code",
   "execution_count": 2,
   "id": "764d0134",
   "metadata": {},
   "outputs": [],
   "source": [
    "api_key = '2IEE9uXCcZZVvz3sdu2s9SPHPl4uq8St'\n",
    "url = f\"https://api.apilayer.com/exchangerates_data/latest?base=EUR&apikey={api_key}\" #Make sure to change ******* to your API key."
   ]
  },
  {
   "cell_type": "code",
   "execution_count": 3,
   "id": "fcd5e277",
   "metadata": {},
   "outputs": [
    {
     "data": {
      "text/plain": [
       "'{\\n    \"success\": true,\\n    \"timestamp\": 1667125983,\\n    \"base\": \"EUR\",\\n    \"date\": \"2022-10-30\",\\n    \"rates\": {\\n        \"AED\": 3.660047,\\n        \"AFN\": 87.689036,\\n        \"ALL\": 117.985092,\\n        \"AMD\": 394.131073,\\n        \"ANG\": 1.797177,\\n        \"AOA\": 480.905834,\\n        \"ARS\": 155.450294,\\n        \"AUD\": 1.553347,\\n        \"AWG\": 1.793632,\\n        \"AZN\": 1.697942,\\n        \"BAM\": 1.960556,\\n        \"BBD\": 2.013404,\\n        \"BDT\": 101.024171,\\n        \"BGN\": 1.955866,\\n        \"BHD\": 0.375667,\\n        \"BIF\": 2045.736779,\\n        \"BMD\": 0.996462,\\n        \"BND\": 1.408452,\\n        \"BOB\": 6.890484,\\n        \"BRL\": 5.273932,\\n        \"BSD\": 0.997229,\\n        \"BTC\": 4.8155145e-05,\\n        \"BTN\": 82.55633,\\n        \"BWP\": 13.331472,\\n        \"BYN\": 2.525388,\\n        \"BYR\": 19530.657994,\\n        \"BZD\": 2.009996,\\n        \"CAD\": 1.359703,\\n        \"CDF\": 2032.783131,\\n        \"CHF\": 0.992816,\\n        \"CLF\": 0.034069,\\n        \"CLP\": 940.066284,\\n        \"CNY\": 7.226846,\\n        \"COP\": 4817.904424,\\n        \"CRC\": 619.148096,\\n        \"CUC\": 0.996462,\\n        \"CUP\": 26.406247,\\n        \"CVE\": 110.956452,\\n        \"CZK\": 24.511524,\\n        \"DJF\": 177.091644,\\n        \"DKK\": 7.443377,\\n        \"DOP\": 53.809313,\\n        \"DZD\": 139.73268,\\n        \"EGP\": 23.066966,\\n        \"ERN\": 14.946932,\\n        \"ETB\": 52.688972,\\n        \"EUR\": 1,\\n        \"FJD\": 2.296885,\\n        \"FKP\": 0.879403,\\n        \"GBP\": 0.858021,\\n        \"GEL\": 2.755258,\\n        \"GGP\": 0.879403,\\n        \"GHS\": 14.000682,\\n        \"GIP\": 0.879403,\\n        \"GMD\": 57.845016,\\n        \"GNF\": 8669.220994,\\n        \"GTQ\": 7.81297,\\n        \"GYD\": 208.628168,\\n        \"HKD\": 7.821147,\\n        \"HNL\": 24.716088,\\n        \"HRK\": 7.531301,\\n        \"HTG\": 128.636974,\\n        \"HUF\": 412.274756,\\n        \"IDR\": 15502.26049,\\n        \"ILS\": 3.520083,\\n        \"IMP\": 0.879403,\\n        \"INR\": 81.996582,\\n        \"IQD\": 1454.834728,\\n        \"IRR\": 42249.995195,\\n        \"ISK\": 143.295059,\\n        \"JEP\": 0.879403,\\n        \"JMD\": 152.568621,\\n        \"JOD\": 0.706531,\\n        \"JPY\": 146.933365,\\n        \"KES\": 120.974294,\\n        \"KGS\": 82.953584,\\n        \"KHR\": 4130.33593,\\n        \"KMF\": 491.75785,\\n        \"KPW\": 896.815791,\\n        \"KRW\": 1416.969515,\\n        \"KWD\": 0.308655,\\n        \"KYD\": 0.830924,\\n        \"KZT\": 466.810642,\\n        \"LAK\": 16865.12211,\\n        \"LBP\": 1516.615729,\\n        \"LKR\": 365.922469,\\n        \"LRD\": 153.081536,\\n        \"LSL\": 17.876911,\\n        \"LTL\": 2.942294,\\n        \"LVL\": 0.60275,\\n        \"LYD\": 4.952796,\\n        \"MAD\": 10.8266,\\n        \"MDL\": 19.225146,\\n        \"MGA\": 4244.929073,\\n        \"MKD\": 61.67455,\\n        \"MMK\": 2093.83363,\\n        \"MNT\": 3347.888755,\\n        \"MOP\": 8.060603,\\n        \"MRO\": 355.736813,\\n        \"MUR\": 44.286095,\\n        \"MVR\": 15.349245,\\n        \"MWK\": 1024.363426,\\n        \"MXN\": 19.730054,\\n        \"MYR\": 4.705796,\\n        \"MZN\": 63.604555,\\n        \"NAD\": 17.876907,\\n        \"NGN\": 436.450761,\\n        \"NIO\": 35.847764,\\n        \"NOK\": 10.25945,\\n        \"NPR\": 132.072455,\\n        \"NZD\": 1.753226,\\n        \"OMR\": 0.383656,\\n        \"PAB\": 0.997129,\\n        \"PEN\": 3.976258,\\n        \"PGK\": 3.507921,\\n        \"PHP\": 57.899471,\\n        \"PKR\": 220.591845,\\n        \"PLN\": 4.717202,\\n        \"PYG\": 7258.789938,\\n        \"QAR\": 3.62787,\\n        \"RON\": 4.922925,\\n        \"RSD\": 117.323825,\\n        \"RUB\": 61.307372,\\n        \"RWF\": 1043.295863,\\n        \"SAR\": 3.745216,\\n        \"SBD\": 8.174692,\\n        \"SCR\": 13.006853,\\n        \"SDG\": 569.976684,\\n        \"SEK\": 10.908873,\\n        \"SGD\": 1.411065,\\n        \"SHP\": 1.372531,\\n        \"SLL\": 17114.237635,\\n        \"SOS\": 567.488844,\\n        \"SRD\": 29.027312,\\n        \"STD\": 20624.754501,\\n        \"SVC\": 8.725253,\\n        \"SYP\": 2503.641061,\\n        \"SZL\": 17.876899,\\n        \"THB\": 37.760971,\\n        \"TJS\": 10.046217,\\n        \"TMT\": 3.487617,\\n        \"TND\": 3.213628,\\n        \"TOP\": 2.404501,\\n        \"TRY\": 18.517858,\\n        \"TTD\": 6.771594,\\n        \"TWD\": 32.000887,\\n        \"TZS\": 2325.424139,\\n        \"UAH\": 36.812443,\\n        \"UGX\": 3794.146439,\\n        \"USD\": 0.996462,\\n        \"UYU\": 40.874844,\\n        \"UZS\": 11135.464776,\\n        \"VND\": 24744.646154,\\n        \"VUV\": 124.707129,\\n        \"WST\": 2.834872,\\n        \"XAF\": 657.568578,\\n        \"XAG\": 0.05177,\\n        \"XAU\": 0.000606,\\n        \"XCD\": 2.692989,\\n        \"XDR\": 0.772794,\\n        \"XOF\": 649.198675,\\n        \"XPF\": 119.725289,\\n        \"YER\": 249.365014,\\n        \"ZAR\": 18.072446,\\n        \"ZMK\": 8969.358618,\\n        \"ZMW\": 16.094502,\\n        \"ZWL\": 320.860403\\n    }\\n}\\n'"
      ]
     },
     "execution_count": 3,
     "metadata": {},
     "output_type": "execute_result"
    }
   ],
   "source": [
    "response = requests.get(url)\n",
    "response.text"
   ]
  },
  {
   "cell_type": "markdown",
   "id": "4d403b2c",
   "metadata": {},
   "source": [
    "## Read json from API"
   ]
  },
  {
   "cell_type": "code",
   "execution_count": 4,
   "id": "51bcaf99",
   "metadata": {},
   "outputs": [
    {
     "data": {
      "text/html": [
       "<div>\n",
       "<style scoped>\n",
       "    .dataframe tbody tr th:only-of-type {\n",
       "        vertical-align: middle;\n",
       "    }\n",
       "\n",
       "    .dataframe tbody tr th {\n",
       "        vertical-align: top;\n",
       "    }\n",
       "\n",
       "    .dataframe thead th {\n",
       "        text-align: right;\n",
       "    }\n",
       "</style>\n",
       "<table border=\"1\" class=\"dataframe\">\n",
       "  <thead>\n",
       "    <tr style=\"text-align: right;\">\n",
       "      <th></th>\n",
       "      <th>success</th>\n",
       "      <th>timestamp</th>\n",
       "      <th>base</th>\n",
       "      <th>date</th>\n",
       "      <th>rates</th>\n",
       "    </tr>\n",
       "  </thead>\n",
       "  <tbody>\n",
       "    <tr>\n",
       "      <th>AED</th>\n",
       "      <td>True</td>\n",
       "      <td>2022-10-30 10:33:03</td>\n",
       "      <td>EUR</td>\n",
       "      <td>2022-10-30</td>\n",
       "      <td>3.660047</td>\n",
       "    </tr>\n",
       "    <tr>\n",
       "      <th>AFN</th>\n",
       "      <td>True</td>\n",
       "      <td>2022-10-30 10:33:03</td>\n",
       "      <td>EUR</td>\n",
       "      <td>2022-10-30</td>\n",
       "      <td>87.689036</td>\n",
       "    </tr>\n",
       "    <tr>\n",
       "      <th>ALL</th>\n",
       "      <td>True</td>\n",
       "      <td>2022-10-30 10:33:03</td>\n",
       "      <td>EUR</td>\n",
       "      <td>2022-10-30</td>\n",
       "      <td>117.985092</td>\n",
       "    </tr>\n",
       "    <tr>\n",
       "      <th>AMD</th>\n",
       "      <td>True</td>\n",
       "      <td>2022-10-30 10:33:03</td>\n",
       "      <td>EUR</td>\n",
       "      <td>2022-10-30</td>\n",
       "      <td>394.131073</td>\n",
       "    </tr>\n",
       "    <tr>\n",
       "      <th>ANG</th>\n",
       "      <td>True</td>\n",
       "      <td>2022-10-30 10:33:03</td>\n",
       "      <td>EUR</td>\n",
       "      <td>2022-10-30</td>\n",
       "      <td>1.797177</td>\n",
       "    </tr>\n",
       "    <tr>\n",
       "      <th>...</th>\n",
       "      <td>...</td>\n",
       "      <td>...</td>\n",
       "      <td>...</td>\n",
       "      <td>...</td>\n",
       "      <td>...</td>\n",
       "    </tr>\n",
       "    <tr>\n",
       "      <th>YER</th>\n",
       "      <td>True</td>\n",
       "      <td>2022-10-30 10:33:03</td>\n",
       "      <td>EUR</td>\n",
       "      <td>2022-10-30</td>\n",
       "      <td>249.365014</td>\n",
       "    </tr>\n",
       "    <tr>\n",
       "      <th>ZAR</th>\n",
       "      <td>True</td>\n",
       "      <td>2022-10-30 10:33:03</td>\n",
       "      <td>EUR</td>\n",
       "      <td>2022-10-30</td>\n",
       "      <td>18.072446</td>\n",
       "    </tr>\n",
       "    <tr>\n",
       "      <th>ZMK</th>\n",
       "      <td>True</td>\n",
       "      <td>2022-10-30 10:33:03</td>\n",
       "      <td>EUR</td>\n",
       "      <td>2022-10-30</td>\n",
       "      <td>8969.358618</td>\n",
       "    </tr>\n",
       "    <tr>\n",
       "      <th>ZMW</th>\n",
       "      <td>True</td>\n",
       "      <td>2022-10-30 10:33:03</td>\n",
       "      <td>EUR</td>\n",
       "      <td>2022-10-30</td>\n",
       "      <td>16.094502</td>\n",
       "    </tr>\n",
       "    <tr>\n",
       "      <th>ZWL</th>\n",
       "      <td>True</td>\n",
       "      <td>2022-10-30 10:33:03</td>\n",
       "      <td>EUR</td>\n",
       "      <td>2022-10-30</td>\n",
       "      <td>320.860403</td>\n",
       "    </tr>\n",
       "  </tbody>\n",
       "</table>\n",
       "<p>167 rows × 5 columns</p>\n",
       "</div>"
      ],
      "text/plain": [
       "     success           timestamp base       date        rates\n",
       "AED     True 2022-10-30 10:33:03  EUR 2022-10-30     3.660047\n",
       "AFN     True 2022-10-30 10:33:03  EUR 2022-10-30    87.689036\n",
       "ALL     True 2022-10-30 10:33:03  EUR 2022-10-30   117.985092\n",
       "AMD     True 2022-10-30 10:33:03  EUR 2022-10-30   394.131073\n",
       "ANG     True 2022-10-30 10:33:03  EUR 2022-10-30     1.797177\n",
       "..       ...                 ...  ...        ...          ...\n",
       "YER     True 2022-10-30 10:33:03  EUR 2022-10-30   249.365014\n",
       "ZAR     True 2022-10-30 10:33:03  EUR 2022-10-30    18.072446\n",
       "ZMK     True 2022-10-30 10:33:03  EUR 2022-10-30  8969.358618\n",
       "ZMW     True 2022-10-30 10:33:03  EUR 2022-10-30    16.094502\n",
       "ZWL     True 2022-10-30 10:33:03  EUR 2022-10-30   320.860403\n",
       "\n",
       "[167 rows x 5 columns]"
      ]
     },
     "execution_count": 4,
     "metadata": {},
     "output_type": "execute_result"
    }
   ],
   "source": [
    "df = pd.read_json(response.text)\n",
    "df"
   ]
  },
  {
   "cell_type": "markdown",
   "id": "2e46806a",
   "metadata": {},
   "source": [
    "drop unnescessary columns"
   ]
  },
  {
   "cell_type": "code",
   "execution_count": 5,
   "id": "560dfe49",
   "metadata": {},
   "outputs": [
    {
     "data": {
      "text/html": [
       "<div>\n",
       "<style scoped>\n",
       "    .dataframe tbody tr th:only-of-type {\n",
       "        vertical-align: middle;\n",
       "    }\n",
       "\n",
       "    .dataframe tbody tr th {\n",
       "        vertical-align: top;\n",
       "    }\n",
       "\n",
       "    .dataframe thead th {\n",
       "        text-align: right;\n",
       "    }\n",
       "</style>\n",
       "<table border=\"1\" class=\"dataframe\">\n",
       "  <thead>\n",
       "    <tr style=\"text-align: right;\">\n",
       "      <th></th>\n",
       "      <th>rates</th>\n",
       "    </tr>\n",
       "  </thead>\n",
       "  <tbody>\n",
       "    <tr>\n",
       "      <th>AED</th>\n",
       "      <td>3.660047</td>\n",
       "    </tr>\n",
       "    <tr>\n",
       "      <th>AFN</th>\n",
       "      <td>87.689036</td>\n",
       "    </tr>\n",
       "    <tr>\n",
       "      <th>ALL</th>\n",
       "      <td>117.985092</td>\n",
       "    </tr>\n",
       "    <tr>\n",
       "      <th>AMD</th>\n",
       "      <td>394.131073</td>\n",
       "    </tr>\n",
       "    <tr>\n",
       "      <th>ANG</th>\n",
       "      <td>1.797177</td>\n",
       "    </tr>\n",
       "    <tr>\n",
       "      <th>...</th>\n",
       "      <td>...</td>\n",
       "    </tr>\n",
       "    <tr>\n",
       "      <th>YER</th>\n",
       "      <td>249.365014</td>\n",
       "    </tr>\n",
       "    <tr>\n",
       "      <th>ZAR</th>\n",
       "      <td>18.072446</td>\n",
       "    </tr>\n",
       "    <tr>\n",
       "      <th>ZMK</th>\n",
       "      <td>8969.358618</td>\n",
       "    </tr>\n",
       "    <tr>\n",
       "      <th>ZMW</th>\n",
       "      <td>16.094502</td>\n",
       "    </tr>\n",
       "    <tr>\n",
       "      <th>ZWL</th>\n",
       "      <td>320.860403</td>\n",
       "    </tr>\n",
       "  </tbody>\n",
       "</table>\n",
       "<p>167 rows × 1 columns</p>\n",
       "</div>"
      ],
      "text/plain": [
       "           rates\n",
       "AED     3.660047\n",
       "AFN    87.689036\n",
       "ALL   117.985092\n",
       "AMD   394.131073\n",
       "ANG     1.797177\n",
       "..           ...\n",
       "YER   249.365014\n",
       "ZAR    18.072446\n",
       "ZMK  8969.358618\n",
       "ZMW    16.094502\n",
       "ZWL   320.860403\n",
       "\n",
       "[167 rows x 1 columns]"
      ]
     },
     "execution_count": 5,
     "metadata": {},
     "output_type": "execute_result"
    }
   ],
   "source": [
    "df.drop(columns=['success', 'timestamp', 'base', 'date'], inplace=True)\n",
    "df"
   ]
  },
  {
   "cell_type": "markdown",
   "id": "71c932d5",
   "metadata": {},
   "source": [
    "## Load the dataframe\n",
    "\n",
    "Using the dataframe save it as a CSV names exchange_rates_1.csv."
   ]
  },
  {
   "cell_type": "code",
   "execution_count": 6,
   "id": "c3c44d97",
   "metadata": {},
   "outputs": [],
   "source": [
    "df.to_csv('exchange_rates_1')"
   ]
  }
 ],
 "metadata": {
  "kernelspec": {
   "display_name": "Python 3 (ipykernel)",
   "language": "python",
   "name": "python3"
  },
  "language_info": {
   "codemirror_mode": {
    "name": "ipython",
    "version": 3
   },
   "file_extension": ".py",
   "mimetype": "text/x-python",
   "name": "python",
   "nbconvert_exporter": "python",
   "pygments_lexer": "ipython3",
   "version": "3.10.5"
  }
 },
 "nbformat": 4,
 "nbformat_minor": 5
}
